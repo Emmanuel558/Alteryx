{
 "cells": [
  {
   "cell_type": "code",
   "execution_count": 2,
   "metadata": {},
   "outputs": [
    {
     "name": "stdout",
     "output_type": "stream",
     "text": [
      "Quel est le nom du fichier ? (sans extension)\n",
      ":décès\n",
      "\n",
      "Quel est le chemin vers le dossier où se trouve le fichier indiqué? \n",
      "C:\\Users\\egakosso\\Downloads\\ALTERYX X POWER BI\\Kaggle\n",
      "\n",
      "Dans quel dossier voulez-vous exporter la vidéo?\n",
      " C:\\Users\\egakosso\\Downloads\\ALTERYX X POWER BI\\Kaggle\n",
      "\n",
      "Exportation de la vidéo réussie. Bon visionnage!\n"
     ]
    }
   ],
   "source": [
    "import os\n",
    "import warnings\n",
    "warnings.filterwarnings(\"ignore\")\n",
    "import pandas as pd\n",
    "import bar_chart_race as bcr\n",
    "\n",
    "file_name_1 = input(\"Quel est le nom du fichier ? (sans extension)\\n:\") #Nom du fichier à récupérer uniquement\n",
    "\n",
    "file_name_extension = file_name_1.title()+\".xlsx\" #Récupération du nom de fichier\n",
    "\n",
    "file_name = os.path.join(input(\"\\nQuel est le chemin vers le dossier où se trouve le fichier indiqué? \\n\").replace(\"\\\\\",\"\\\\\"),file_name_extension) #chemin complet\n",
    "\n",
    "path_export_video = input(\"\\nDans quel dossier voulez-vous exporter la vidéo?\\n \").replace(\"\\\\\",\"\\\\\")\n",
    "\n",
    "try :\n",
    "    \n",
    "    df = pd.read_excel(file_name) #Lecture du tableau du TCD \n",
    "\n",
    "    df.columns = [col.replace(\"_\",\" \") for col in df.columns] #Replacement des tirets par rien dans les noms de pays\n",
    "\n",
    "    date_actuelle = str(df[\"Date\"].max())[:10] #Récupération de la date du jour\n",
    "\n",
    "    df.set_index(\"Date\" , inplace = True) #Colonne de date en tant qu'index\n",
    "\n",
    "    country_reserved_3 = set()\n",
    "    for index , row in df.iterrows():\n",
    "        country_reserved_3 |= set(row[row > 0].sort_values(ascending = False).head(15).index)\n",
    "\n",
    "    df = df[list(country_reserved_3)]\n",
    "\n",
    "    bcr.bar_chart_race(\n",
    "                      df = df ,\n",
    "                      filename = path_export_video+\"\\\\covid-19_\"+file_name_1.rstrip(\"_pays.xlsx\")+\"s_\"+date_actuelle+\".mp4\",\n",
    "                      n_bars = 10,\n",
    "                      period_fmt = \"%B %d,%Y\",\n",
    "                      title = \"Evolution chronologique des \"+file_name_1.rstrip(\".xlsx\").replace(\"_\",\"\")+\"s par pays au \"+ date_actuelle+\".\"\n",
    "                        )\n",
    "\n",
    "except FileNotFoundError:\n",
    "    print(\"\\nFichier non trouvé. Veuillez saisir le bon nom de fichier. Les accents et les 's' à la fin ne doivent pas être oubliés.\")\n",
    "except NameError:\n",
    "    print(\"\\nAttention à l'installation du package bar_chart_race.\")   \n",
    "else :\n",
    "    print(\"\\nExportation de la vidéo réussie. Bon visionnage!\")"
   ]
  },
  {
   "cell_type": "code",
   "execution_count": null,
   "metadata": {},
   "outputs": [],
   "source": []
  },
  {
   "cell_type": "code",
   "execution_count": null,
   "metadata": {},
   "outputs": [],
   "source": []
  }
 ],
 "metadata": {
  "kernelspec": {
   "display_name": "Python 3",
   "language": "python",
   "name": "python3"
  },
  "language_info": {
   "codemirror_mode": {
    "name": "ipython",
    "version": 3
   },
   "file_extension": ".py",
   "mimetype": "text/x-python",
   "name": "python",
   "nbconvert_exporter": "python",
   "pygments_lexer": "ipython3",
   "version": "3.8.8"
  }
 },
 "nbformat": 4,
 "nbformat_minor": 4
}
